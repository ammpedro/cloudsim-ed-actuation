{
 "metadata": {
  "name": "Task_01-01"
 }, 
 "nbformat": 2, 
 "worksheets": [
  {
   "cells": [
    {
     "cell_type": "code", 
     "collapsed": true, 
     "input": [
      "# This is a IPython Notebook code cell. To execute code you may: ", 
      "# (1) select a cell and press Shift+Enter", 
      "# (2) click on the play button on the toolbar", 
      "# (3) or select cell>run on the menubar", 
      "#", 
      "# Try executing the cell below:"
     ], 
     "language": "python", 
     "outputs": []
    }, 
    {
     "cell_type": "code", 
     "collapsed": false, 
     "input": [
      "a = 1", 
      "b = 2", 
      "c = a + b", 
      "print a,'+',b,'=',c"
     ], 
     "language": "python", 
     "outputs": [], 
     "prompt_number": 10
    }, 
    {
     "cell_type": "code", 
     "collapsed": true, 
     "input": [
      "# <demo> --- stop ---"
     ], 
     "language": "python", 
     "outputs": []
    }, 
    {
     "cell_type": "code", 
     "collapsed": true, 
     "input": [
      "# To run system commands, place the prefix !", 
      "# Try executing the cell below to view a list of ROS topics:"
     ], 
     "language": "python", 
     "outputs": []
    }, 
    {
     "cell_type": "code", 
     "collapsed": true, 
     "input": [
      "!rostopic list"
     ], 
     "language": "python", 
     "outputs": []
    }, 
    {
     "cell_type": "code", 
     "collapsed": true, 
     "input": [
      "# <demo> --- stop ---"
     ], 
     "language": "python", 
     "outputs": []
    }
   ]
  }
 ]
}